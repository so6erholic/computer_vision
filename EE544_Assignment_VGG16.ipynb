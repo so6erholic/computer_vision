{
  "nbformat": 4,
  "nbformat_minor": 0,
  "metadata": {
    "colab": {
      "name": "EE544_AssignmentQ1e.ipynb",
      "provenance": [],
      "collapsed_sections": [],
      "authorship_tag": "ABX9TyOoUiH+G1Iu3k0KaLYDD9s1",
      "include_colab_link": true
    },
    "kernelspec": {
      "name": "python3",
      "display_name": "Python 3"
    },
    "accelerator": "GPU"
  },
  "cells": [
    {
      "cell_type": "markdown",
      "metadata": {
        "id": "view-in-github",
        "colab_type": "text"
      },
      "source": [
        "<a href=\"https://colab.research.google.com/github/so6erholic/computer_vision/blob/master/EE544_Assignment_VGG16.ipynb\" target=\"_parent\"><img src=\"https://colab.research.google.com/assets/colab-badge.svg\" alt=\"Open In Colab\"/></a>"
      ]
    },
    {
      "cell_type": "code",
      "metadata": {
        "id": "JtGLvmG-RmVR",
        "colab_type": "code",
        "outputId": "1e486d75-8586-4abb-ddb8-e3a3f0dae009",
        "colab": {
          "base_uri": "https://localhost:8080/",
          "height": 122
        }
      },
      "source": [
        "from google.colab import drive\n",
        "drive.mount('/content/gdrive')"
      ],
      "execution_count": 0,
      "outputs": [
        {
          "output_type": "stream",
          "text": [
            "Go to this URL in a browser: https://accounts.google.com/o/oauth2/auth?client_id=947318989803-6bn6qk8qdgf4n4g3pfee6491hc0brc4i.apps.googleusercontent.com&redirect_uri=urn%3aietf%3awg%3aoauth%3a2.0%3aoob&response_type=code&scope=email%20https%3a%2f%2fwww.googleapis.com%2fauth%2fdocs.test%20https%3a%2f%2fwww.googleapis.com%2fauth%2fdrive%20https%3a%2f%2fwww.googleapis.com%2fauth%2fdrive.photos.readonly%20https%3a%2f%2fwww.googleapis.com%2fauth%2fpeopleapi.readonly\n",
            "\n",
            "Enter your authorization code:\n",
            "··········\n",
            "Mounted at /content/gdrive\n"
          ],
          "name": "stdout"
        }
      ]
    },
    {
      "cell_type": "code",
      "metadata": {
        "id": "2rWDwERq8tms",
        "colab_type": "code",
        "outputId": "81f29143-3898-4cff-962e-9a59d9346360",
        "colab": {
          "base_uri": "https://localhost:8080/",
          "height": 51
        }
      },
      "source": [
        "print(\"Extracting Data\")\n",
        "!unzip -qo \"/content/gdrive/My Drive/Datasets/imagenette_6class.zip\"\n",
        "print(\"Extraction Done\")"
      ],
      "execution_count": 0,
      "outputs": [
        {
          "output_type": "stream",
          "text": [
            "Extracting Data\n",
            "Extraction Done\n"
          ],
          "name": "stdout"
        }
      ]
    },
    {
      "cell_type": "code",
      "metadata": {
        "id": "fVBtq7GRSbth",
        "colab_type": "code",
        "colab": {}
      },
      "source": [
        "!pip install -q keras"
      ],
      "execution_count": 0,
      "outputs": []
    },
    {
      "cell_type": "code",
      "metadata": {
        "id": "G5dTLGcXSflU",
        "colab_type": "code",
        "outputId": "5eaf689e-15be-41ea-f726-ed0e9d7f852c",
        "colab": {
          "base_uri": "https://localhost:8080/",
          "height": 34
        }
      },
      "source": [
        "import keras\n",
        "import numpy as np\n",
        "import matplotlib.pyplot as plt\n",
        "from keras import models, layers, optimizers\n",
        "from keras.layers import Dense\n",
        "from keras.layers import Dropout\n",
        "from keras.layers import Flatten, BatchNormalization\n",
        "from keras.layers.convolutional import Conv2D\n",
        "from keras.layers.convolutional import MaxPooling2D\n",
        "from keras.constraints import maxnorm\n",
        "from keras.utils import np_utils\n",
        "from keras.layers import Dropout\n",
        "from keras.applications.inception_v3 import preprocess_input\n",
        "from keras.callbacks import ModelCheckpoint, EarlyStopping\n",
        "import tensorflow as tf\n",
        "from keras.preprocessing.image import ImageDataGenerator\n",
        "from sklearn.metrics import accuracy_score, confusion_matrix, f1_score, precision_score, classification_report\n",
        "import os"
      ],
      "execution_count": 0,
      "outputs": [
        {
          "output_type": "stream",
          "text": [
            "Using TensorFlow backend.\n"
          ],
          "name": "stderr"
        }
      ]
    },
    {
      "cell_type": "code",
      "metadata": {
        "id": "w8W_kTm_SpNI",
        "colab_type": "code",
        "colab": {}
      },
      "source": [
        "base_dir = '/content'\n",
        "train_dir = os.path.join(base_dir, 'train')\n",
        "validation_dir = os.path.join(base_dir, 'validation')\n",
        "test_dir = os.path.join(base_dir, 'test')"
      ],
      "execution_count": 0,
      "outputs": []
    },
    {
      "cell_type": "code",
      "metadata": {
        "id": "OLZ3nsTnSxWF",
        "colab_type": "code",
        "outputId": "3c1060c0-2ec4-4fc6-96ec-0d66ccf5e0ab",
        "colab": {
          "base_uri": "https://localhost:8080/",
          "height": 68
        }
      },
      "source": [
        "train_datagen = ImageDataGenerator(rescale=1./255, \n",
        "                                  rotation_range=30,\n",
        "                                  width_shift_range=0.2,\n",
        "                                  height_shift_range=0.2,\n",
        "                                  shear_range=0.2,\n",
        "                                  zoom_range=0.3,\n",
        "                                  horizontal_flip=True)\n",
        "validation_datagen = ImageDataGenerator(rescale = 1./255)\n",
        "test_datagen = ImageDataGenerator(rescale=1./255)\n",
        "train_datagenerator = train_datagen.flow_from_directory(train_dir,\n",
        "                                                        class_mode='categorical',\n",
        "                                                        target_size=(224,224),\n",
        "                                                        batch_size=36,\n",
        "                                                       )\n",
        "test_datagenerator = test_datagen.flow_from_directory(test_dir,class_mode='categorical', target_size=(224,224), batch_size=20)\n",
        "validation_datagenerator = validation_datagen.flow_from_directory(validation_dir, class_mode='categorical', target_size=(224,224), batch_size=20)"
      ],
      "execution_count": 0,
      "outputs": [
        {
          "output_type": "stream",
          "text": [
            "Found 7200 images belonging to 6 classes.\n",
            "Found 300 images belonging to 6 classes.\n",
            "Found 600 images belonging to 6 classes.\n"
          ],
          "name": "stdout"
        }
      ]
    },
    {
      "cell_type": "code",
      "metadata": {
        "id": "nfbGqFRuS4VY",
        "colab_type": "code",
        "outputId": "98b04915-97c1-433a-8e85-0ac286b6d813",
        "colab": {
          "base_uri": "https://localhost:8080/",
          "height": 68
        }
      },
      "source": [
        "print(train_datagenerator.image_shape)\n",
        "print(validation_datagenerator.image_shape)\n",
        "print(test_datagenerator.image_shape)"
      ],
      "execution_count": 0,
      "outputs": [
        {
          "output_type": "stream",
          "text": [
            "(224, 224, 3)\n",
            "(224, 224, 3)\n",
            "(224, 224, 3)\n"
          ],
          "name": "stdout"
        }
      ]
    },
    {
      "cell_type": "code",
      "metadata": {
        "id": "xzRZ3wzlTF7h",
        "colab_type": "code",
        "outputId": "a6aba7b2-2927-4afa-d6f0-48ed1d52ddd2",
        "colab": {
          "base_uri": "https://localhost:8080/",
          "height": 561
        }
      },
      "source": [
        "model = models.Sequential()\n",
        "model.add(layers.Conv2D(32, kernel_size=(3, 3), dilation_rate=(1,1), padding = 'same', strides=(1,1), kernel_initializer='glorot_uniform', activation='relu', input_shape=(224, 224, 3)))\n",
        "\n",
        "model.add(layers.Conv2D(32, kernel_size=(3, 3), dilation_rate=(1,1), padding = 'same', strides=(1,1), kernel_initializer='glorot_uniform', activation='relu'))\n",
        "model.add(layers.MaxPooling2D(pool_size=(2, 2)))\n",
        "model.add(Dropout(0.25))\n",
        "model.add(layers.Conv2D(64, kernel_size=(3, 3), dilation_rate=(1,1), padding = 'same', strides=(1,1), kernel_initializer='glorot_uniform', activation='relu'))\n",
        "model.add(layers.Conv2D(64, kernel_size=(3, 3), dilation_rate=(1,1), padding = 'same', strides=(1,1), kernel_initializer='glorot_uniform', activation='relu'))\n",
        "model.add(layers.MaxPooling2D(pool_size=(2, 2)))\n",
        "model.add(layers.Flatten())\n",
        "model.add(layers.Dense(512, kernel_initializer='glorot_uniform',activation='relu'))\n",
        "model.add(Dropout(0.5))\n",
        "model.add(BatchNormalization(axis=1))\n",
        "model.add(layers.Dense(6,activation='softmax'))\n",
        "model.summary()"
      ],
      "execution_count": 0,
      "outputs": [
        {
          "output_type": "stream",
          "text": [
            "Model: \"sequential_8\"\n",
            "_________________________________________________________________\n",
            "Layer (type)                 Output Shape              Param #   \n",
            "=================================================================\n",
            "conv2d_29 (Conv2D)           (None, 224, 224, 32)      896       \n",
            "_________________________________________________________________\n",
            "conv2d_30 (Conv2D)           (None, 224, 224, 32)      9248      \n",
            "_________________________________________________________________\n",
            "max_pooling2d_15 (MaxPooling (None, 112, 112, 32)      0         \n",
            "_________________________________________________________________\n",
            "dropout_10 (Dropout)         (None, 112, 112, 32)      0         \n",
            "_________________________________________________________________\n",
            "conv2d_31 (Conv2D)           (None, 112, 112, 64)      18496     \n",
            "_________________________________________________________________\n",
            "conv2d_32 (Conv2D)           (None, 112, 112, 64)      36928     \n",
            "_________________________________________________________________\n",
            "max_pooling2d_16 (MaxPooling (None, 56, 56, 64)        0         \n",
            "_________________________________________________________________\n",
            "flatten_8 (Flatten)          (None, 200704)            0         \n",
            "_________________________________________________________________\n",
            "dense_15 (Dense)             (None, 512)               102760960 \n",
            "_________________________________________________________________\n",
            "dropout_11 (Dropout)         (None, 512)               0         \n",
            "_________________________________________________________________\n",
            "batch_normalization_7 (Batch (None, 512)               2048      \n",
            "_________________________________________________________________\n",
            "dense_16 (Dense)             (None, 6)                 3078      \n",
            "=================================================================\n",
            "Total params: 102,831,654\n",
            "Trainable params: 102,830,630\n",
            "Non-trainable params: 1,024\n",
            "_________________________________________________________________\n"
          ],
          "name": "stdout"
        }
      ]
    },
    {
      "cell_type": "code",
      "metadata": {
        "id": "og4FYfhVTTX9",
        "colab_type": "code",
        "colab": {}
      },
      "source": [
        "model_checkpoint = ModelCheckpoint(\"cnn_baseline_check.h5\", monitor='val_accuracy', verbose=1, save_best_only=True, save_weights_only=False, mode='auto', period=1)\n",
        "model_early = EarlyStopping(monitor='val_accuracy', min_delta=0, patience=6, verbose=1, mode='auto')"
      ],
      "execution_count": 0,
      "outputs": []
    },
    {
      "cell_type": "code",
      "metadata": {
        "id": "ld-9ENSjTYBT",
        "colab_type": "code",
        "outputId": "150dfb8b-02ac-4d6d-e123-21c22a6d37a7",
        "colab": {
          "base_uri": "https://localhost:8080/",
          "height": 527
        }
      },
      "source": [
        "model.compile(loss = 'categorical_crossentropy', optimizer='adam', metrics=['accuracy'])\n",
        "model.summary()"
      ],
      "execution_count": 0,
      "outputs": [
        {
          "output_type": "stream",
          "text": [
            "Model: \"sequential_7\"\n",
            "_________________________________________________________________\n",
            "Layer (type)                 Output Shape              Param #   \n",
            "=================================================================\n",
            "conv2d_25 (Conv2D)           (None, 224, 224, 32)      896       \n",
            "_________________________________________________________________\n",
            "conv2d_26 (Conv2D)           (None, 224, 224, 32)      9248      \n",
            "_________________________________________________________________\n",
            "max_pooling2d_13 (MaxPooling (None, 112, 112, 32)      0         \n",
            "_________________________________________________________________\n",
            "dropout_8 (Dropout)          (None, 112, 112, 32)      0         \n",
            "_________________________________________________________________\n",
            "conv2d_27 (Conv2D)           (None, 112, 112, 64)      18496     \n",
            "_________________________________________________________________\n",
            "conv2d_28 (Conv2D)           (None, 112, 112, 64)      36928     \n",
            "_________________________________________________________________\n",
            "max_pooling2d_14 (MaxPooling (None, 56, 56, 64)        0         \n",
            "_________________________________________________________________\n",
            "flatten_7 (Flatten)          (None, 200704)            0         \n",
            "_________________________________________________________________\n",
            "dense_13 (Dense)             (None, 512)               102760960 \n",
            "_________________________________________________________________\n",
            "dropout_9 (Dropout)          (None, 512)               0         \n",
            "_________________________________________________________________\n",
            "dense_14 (Dense)             (None, 6)                 3078      \n",
            "=================================================================\n",
            "Total params: 102,829,606\n",
            "Trainable params: 102,829,606\n",
            "Non-trainable params: 0\n",
            "_________________________________________________________________\n"
          ],
          "name": "stdout"
        }
      ]
    },
    {
      "cell_type": "code",
      "metadata": {
        "id": "w4GcfpueTfhO",
        "colab_type": "code",
        "outputId": "6f8ad4df-38d7-40c9-a6fc-89c99f356da3",
        "colab": {
          "base_uri": "https://localhost:8080/",
          "height": 1000
        }
      },
      "source": [
        "print('Starting Training.....')\n",
        "history = model.fit(train_datagenerator,\n",
        "                  steps_per_epoch=200,\n",
        "                  epochs=16,\n",
        "                  validation_data=validation_datagenerator,\n",
        "                  validation_steps=15, callbacks=[model_checkpoint, model_early])\n",
        "print('Training Completed')"
      ],
      "execution_count": 0,
      "outputs": [
        {
          "output_type": "stream",
          "text": [
            "Starting Training.....\n",
            "Epoch 1/16\n",
            "200/200 [==============================] - 94s 469ms/step - loss: 1.7676 - accuracy: 0.2868 - val_loss: 1.7856 - val_accuracy: 0.3733\n",
            "\n",
            "Epoch 00001: val_accuracy improved from -inf to 0.37333, saving model to cnn_baseline_check.h5\n",
            "Epoch 2/16\n",
            "200/200 [==============================] - 91s 454ms/step - loss: 1.5094 - accuracy: 0.3918 - val_loss: 1.1436 - val_accuracy: 0.4600\n",
            "\n",
            "Epoch 00002: val_accuracy improved from 0.37333 to 0.46000, saving model to cnn_baseline_check.h5\n",
            "Epoch 3/16\n",
            "200/200 [==============================] - 90s 451ms/step - loss: 1.3195 - accuracy: 0.4946 - val_loss: 1.2264 - val_accuracy: 0.6100\n",
            "\n",
            "Epoch 00003: val_accuracy improved from 0.46000 to 0.61000, saving model to cnn_baseline_check.h5\n",
            "Epoch 4/16\n",
            "200/200 [==============================] - 89s 446ms/step - loss: 1.2058 - accuracy: 0.5479 - val_loss: 1.1377 - val_accuracy: 0.6033\n",
            "\n",
            "Epoch 00004: val_accuracy did not improve from 0.61000\n",
            "Epoch 5/16\n",
            "200/200 [==============================] - 90s 449ms/step - loss: 1.1400 - accuracy: 0.5782 - val_loss: 0.6936 - val_accuracy: 0.6500\n",
            "\n",
            "Epoch 00005: val_accuracy improved from 0.61000 to 0.65000, saving model to cnn_baseline_check.h5\n",
            "Epoch 6/16\n",
            "200/200 [==============================] - 89s 443ms/step - loss: 1.0778 - accuracy: 0.6001 - val_loss: 1.1872 - val_accuracy: 0.6400\n",
            "\n",
            "Epoch 00006: val_accuracy did not improve from 0.65000\n",
            "Epoch 7/16\n",
            "200/200 [==============================] - 89s 445ms/step - loss: 1.0532 - accuracy: 0.6157 - val_loss: 0.5978 - val_accuracy: 0.6767\n",
            "\n",
            "Epoch 00007: val_accuracy improved from 0.65000 to 0.67667, saving model to cnn_baseline_check.h5\n",
            "Epoch 8/16\n",
            "200/200 [==============================] - 89s 443ms/step - loss: 1.0026 - accuracy: 0.6336 - val_loss: 0.7293 - val_accuracy: 0.6767\n",
            "\n",
            "Epoch 00008: val_accuracy did not improve from 0.67667\n",
            "Epoch 9/16\n",
            "200/200 [==============================] - 89s 445ms/step - loss: 0.9514 - accuracy: 0.6608 - val_loss: 1.1343 - val_accuracy: 0.6867\n",
            "\n",
            "Epoch 00009: val_accuracy improved from 0.67667 to 0.68667, saving model to cnn_baseline_check.h5\n",
            "Epoch 10/16\n",
            "200/200 [==============================] - 89s 443ms/step - loss: 0.9222 - accuracy: 0.6646 - val_loss: 0.6328 - val_accuracy: 0.6800\n",
            "\n",
            "Epoch 00010: val_accuracy did not improve from 0.68667\n",
            "Epoch 11/16\n",
            "200/200 [==============================] - 90s 449ms/step - loss: 0.9072 - accuracy: 0.6761 - val_loss: 0.7851 - val_accuracy: 0.7033\n",
            "\n",
            "Epoch 00011: val_accuracy improved from 0.68667 to 0.70333, saving model to cnn_baseline_check.h5\n",
            "Epoch 12/16\n",
            "200/200 [==============================] - 91s 457ms/step - loss: 0.8766 - accuracy: 0.6901 - val_loss: 0.5537 - val_accuracy: 0.6600\n",
            "\n",
            "Epoch 00012: val_accuracy did not improve from 0.70333\n",
            "Epoch 13/16\n",
            "200/200 [==============================] - 92s 461ms/step - loss: 0.8448 - accuracy: 0.6994 - val_loss: 0.6786 - val_accuracy: 0.7300\n",
            "\n",
            "Epoch 00013: val_accuracy improved from 0.70333 to 0.73000, saving model to cnn_baseline_check.h5\n",
            "Epoch 14/16\n",
            "200/200 [==============================] - 93s 463ms/step - loss: 0.8379 - accuracy: 0.7064 - val_loss: 0.8011 - val_accuracy: 0.7600\n",
            "\n",
            "Epoch 00014: val_accuracy improved from 0.73000 to 0.76000, saving model to cnn_baseline_check.h5\n",
            "Epoch 15/16\n",
            "200/200 [==============================] - 92s 462ms/step - loss: 0.7928 - accuracy: 0.7226 - val_loss: 0.7097 - val_accuracy: 0.7600\n",
            "\n",
            "Epoch 00015: val_accuracy did not improve from 0.76000\n",
            "Epoch 16/16\n",
            "200/200 [==============================] - 94s 470ms/step - loss: 0.7839 - accuracy: 0.7250 - val_loss: 0.4552 - val_accuracy: 0.7300\n",
            "\n",
            "Epoch 00016: val_accuracy did not improve from 0.76000\n",
            "Training Completed\n"
          ],
          "name": "stdout"
        }
      ]
    },
    {
      "cell_type": "code",
      "metadata": {
        "id": "g7h_tasSV95M",
        "colab_type": "code",
        "outputId": "c47f3739-166a-42dc-f5f5-e442fdd0553b",
        "colab": {
          "base_uri": "https://localhost:8080/",
          "height": 296
        }
      },
      "source": [
        "plt.plot(history.history['accuracy'])\n",
        "plt.plot(history.history['val_accuracy'])\n",
        "plt.plot(history.history['loss'])\n",
        "plt.plot(history.history['val_loss'])\n",
        "plt.xlabel('epoch')\n",
        "plt.ylabel('accuracy/loss')\n",
        "plt.legend(['train_accuracy', 'validation_accuracy', 'train_loss', 'validation_loss'], loc='upper left')"
      ],
      "execution_count": 0,
      "outputs": [
        {
          "output_type": "execute_result",
          "data": {
            "text/plain": [
              "<matplotlib.legend.Legend at 0x7fe0d4dc2320>"
            ]
          },
          "metadata": {
            "tags": []
          },
          "execution_count": 52
        },
        {
          "output_type": "display_data",
          "data": {
            "image/png": "[encoded data removed]",
            "text/plain": [
              "<Figure size 432x288 with 1 Axes>"
            ]
          },
          "metadata": {
            "tags": [],
            "needs_background": "light"
          }
        }
      ]
    },
    {
      "cell_type": "code",
      "metadata": {
        "id": "MB0BOHUtWdDB",
        "colab_type": "code",
        "outputId": "6ba19c4c-540f-47a4-9a7b-9f58da0c3e3f",
        "colab": {
          "base_uri": "https://localhost:8080/",
          "height": 51
        }
      },
      "source": [
        "result = model.evaluate(test_datagenerator,\n",
        "                        steps = 30)\n",
        "print('Final Test Accuracy:', (result[1]*100))"
      ],
      "execution_count": 0,
      "outputs": [
        {
          "output_type": "stream",
          "text": [
            "30/30 [==============================] - 2s 63ms/step\n",
            "Final Test Accuracy: 78.66666913032532\n"
          ],
          "name": "stdout"
        }
      ]
    },
    {
      "cell_type": "code",
      "metadata": {
        "id": "2Pi7XZCOWqVW",
        "colab_type": "code",
        "outputId": "76be677f-7c3d-49a0-a8db-f523c01a504a",
        "colab": {
          "base_uri": "https://localhost:8080/",
          "height": 34
        }
      },
      "source": [
        "predict = model.predict_generator(test_datagenerator, steps=15)\n",
        "print(predict.shape)"
      ],
      "execution_count": 0,
      "outputs": [
        {
          "output_type": "stream",
          "text": [
            "(300, 6)\n"
          ],
          "name": "stdout"
        }
      ]
    },
    {
      "cell_type": "code",
      "metadata": {
        "id": "yGj1NRLEXYN8",
        "colab_type": "code",
        "outputId": "53ead3a7-5b5e-4150-aeac-bd68e867272b",
        "colab": {
          "base_uri": "https://localhost:8080/",
          "height": 136
        }
      },
      "source": [
        "y_pred = np.argmax(predict, axis=1)\n",
        "print('Confusion Matrix')\n",
        "print(confusion_matrix(test_datagenerator.classes, y_pred))\n"
      ],
      "execution_count": 0,
      "outputs": [
        {
          "output_type": "stream",
          "text": [
            "Confusion Matrix\n",
            "[[ 7 15  7  6  6  9]\n",
            " [ 6 11  8  4  7 14]\n",
            " [11 13  6  6  8  6]\n",
            " [ 3 13 10  9  7  8]\n",
            " [ 6 11 11  3  9 10]\n",
            " [ 8 12  7  5  8 10]]\n"
          ],
          "name": "stdout"
        }
      ]
    },
    {
      "cell_type": "code",
      "metadata": {
        "id": "VtAbFMuCqmH0",
        "colab_type": "code",
        "outputId": "1d751f12-7343-41f8-93bd-d8530849968b",
        "colab": {
          "base_uri": "https://localhost:8080/",
          "height": 255
        }
      },
      "source": [
        "print('Classification Report')\n",
        "target_names = ['Church', 'English_springer', 'garbage_truck', 'gas_pump', 'parachute', 'tench']\n",
        "print(classification_report(test_datagenerator.classes, y_pred, target_names=target_names))"
      ],
      "execution_count": 0,
      "outputs": [
        {
          "output_type": "stream",
          "text": [
            "Classification Report\n",
            "                  precision    recall  f1-score   support\n",
            "\n",
            "          Church       0.17      0.14      0.15        50\n",
            "English_springer       0.15      0.22      0.18        50\n",
            "   garbage_truck       0.12      0.12      0.12        50\n",
            "        gas_pump       0.27      0.18      0.22        50\n",
            "       parachute       0.20      0.18      0.19        50\n",
            "           tench       0.18      0.20      0.19        50\n",
            "\n",
            "        accuracy                           0.17       300\n",
            "       macro avg       0.18      0.17      0.17       300\n",
            "    weighted avg       0.18      0.17      0.17       300\n",
            "\n"
          ],
          "name": "stdout"
        }
      ]
    },
    {
      "cell_type": "code",
      "metadata": {
        "id": "E_SVZ51gszPH",
        "colab_type": "code",
        "outputId": "2edec63b-7fc9-47c9-f982-e0e2831df190",
        "colab": {
          "base_uri": "https://localhost:8080/",
          "height": 34
        }
      },
      "source": [
        "model.save('/content/gdrive/My Drive/Colab Notebooks/cnn_q1e.h5')\n",
        "print(\"Model settings have been saved\")"
      ],
      "execution_count": 0,
      "outputs": [
        {
          "output_type": "stream",
          "text": [
            "Model settings have been saved\n"
          ],
          "name": "stdout"
        }
      ]
    }
  ]
}